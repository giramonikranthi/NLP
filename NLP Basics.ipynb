{
 "cells": [
  {
   "cell_type": "code",
   "execution_count": 1,
   "metadata": {},
   "outputs": [],
   "source": [
    "import pandas as pd\n",
    "import numpy as np"
   ]
  },
  {
   "cell_type": "code",
   "execution_count": 2,
   "metadata": {},
   "outputs": [],
   "source": [
    "# multiple statements output in one cell with out print() funcation\n",
    "\n",
    "from IPython.core.interactiveshell import InteractiveShell\n",
    "InteractiveShell.ast_node_interactivity = \"all\" \n"
   ]
  },
  {
   "cell_type": "markdown",
   "metadata": {},
   "source": [
    "##  Word Counts"
   ]
  },
  {
   "cell_type": "code",
   "execution_count": 3,
   "metadata": {},
   "outputs": [],
   "source": [
    "text1 = 'I am Kranthi Giramoni, I am from Hyderabad'"
   ]
  },
  {
   "cell_type": "code",
   "execution_count": 4,
   "metadata": {},
   "outputs": [],
   "source": [
    "text2 = \"Covid19 Breaking News: Donald Trump, US government extends national lockdown for at least three more weeks to curb Coronavirus outbreak. US President Donald Trump thanked India for Prime Minister Narendra Modi's decision to allow the export of anti malaria hydroxychloroquine to the US,India Prime Minister  Modi,  Modi anounced in  India Lockdown upto May 3rd due to Corona (Covid19), India corona(Covid19) Cases are 8,458,\""
   ]
  },
  {
   "cell_type": "code",
   "execution_count": 5,
   "metadata": {},
   "outputs": [
    {
     "data": {
      "text/plain": [
       "'I am Kranthi Giramoni, I am from Hyderabad'"
      ]
     },
     "execution_count": 5,
     "metadata": {},
     "output_type": "execute_result"
    }
   ],
   "source": [
    "str(text1)"
   ]
  },
  {
   "cell_type": "code",
   "execution_count": 6,
   "metadata": {},
   "outputs": [
    {
     "data": {
      "text/plain": [
       "['I', 'am', 'Kranthi', 'Giramoni,', 'I', 'am', 'from', 'Hyderabad']"
      ]
     },
     "execution_count": 6,
     "metadata": {},
     "output_type": "execute_result"
    }
   ],
   "source": [
    "str(text1).split()"
   ]
  },
  {
   "cell_type": "code",
   "execution_count": 7,
   "metadata": {},
   "outputs": [
    {
     "data": {
      "text/plain": [
       "8"
      ]
     },
     "execution_count": 7,
     "metadata": {},
     "output_type": "execute_result"
    },
    {
     "data": {
      "text/plain": [
       "63"
      ]
     },
     "execution_count": 7,
     "metadata": {},
     "output_type": "execute_result"
    }
   ],
   "source": [
    "#  Word Counts of text1\n",
    "len(str(text1).split())\n",
    "\n",
    "#  Word Counts of text2\n",
    "len(str(text2).split())"
   ]
  },
  {
   "cell_type": "markdown",
   "metadata": {},
   "source": [
    "### Character Counts"
   ]
  },
  {
   "cell_type": "code",
   "execution_count": 8,
   "metadata": {},
   "outputs": [
    {
     "data": {
      "text/plain": [
       "42"
      ]
     },
     "execution_count": 8,
     "metadata": {},
     "output_type": "execute_result"
    },
    {
     "data": {
      "text/plain": [
       "424"
      ]
     },
     "execution_count": 8,
     "metadata": {},
     "output_type": "execute_result"
    }
   ],
   "source": [
    "#  Character Counts of text1\n",
    "len(text1)\n",
    "\n",
    "#  Character Counts of text2\n",
    "len(text2)"
   ]
  },
  {
   "cell_type": "markdown",
   "metadata": {},
   "source": [
    "### Average Word Length"
   ]
  },
  {
   "cell_type": "markdown",
   "metadata": {},
   "source": [
    "#### Method 1"
   ]
  },
  {
   "cell_type": "code",
   "execution_count": 9,
   "metadata": {},
   "outputs": [
    {
     "data": {
      "text/plain": [
       "5.25"
      ]
     },
     "execution_count": 9,
     "metadata": {},
     "output_type": "execute_result"
    },
    {
     "data": {
      "text/plain": [
       "6.73015873015873"
      ]
     },
     "execution_count": 9,
     "metadata": {},
     "output_type": "execute_result"
    }
   ],
   "source": [
    "\n",
    "avg_len1 = len(text1)/len(str(text1).split()) #len(character)/ len(Words)\n",
    "avg_len1\n",
    "\n",
    "\n",
    "avg_len2 = len(text2)/len(str(text2).split()) #len(character)/ len(Words)\n",
    "avg_len2"
   ]
  },
  {
   "cell_type": "markdown",
   "metadata": {},
   "source": [
    "#### Method 2"
   ]
  },
  {
   "cell_type": "code",
   "execution_count": 10,
   "metadata": {},
   "outputs": [],
   "source": [
    "def get_avg_word_len(x):\n",
    "    words = x.split()\n",
    "    word_len = 0\n",
    "    for word in words:\n",
    "        word_len = word_len + len(word)\n",
    "    return word_len/len(words )   #len(x)/len(words) "
   ]
  },
  {
   "cell_type": "code",
   "execution_count": 11,
   "metadata": {
    "scrolled": true
   },
   "outputs": [
    {
     "data": {
      "text/plain": [
       "4.375"
      ]
     },
     "execution_count": 11,
     "metadata": {},
     "output_type": "execute_result"
    },
    {
     "data": {
      "text/plain": [
       "5.698412698412699"
      ]
     },
     "execution_count": 11,
     "metadata": {},
     "output_type": "execute_result"
    }
   ],
   "source": [
    "#  Average Word Length\n",
    "get_avg_word_len(text1)\n",
    "\n",
    "#  Average Word Length\n",
    "get_avg_word_len(text2)"
   ]
  },
  {
   "cell_type": "markdown",
   "metadata": {},
   "source": [
    "### Stop Words Count"
   ]
  },
  {
   "cell_type": "code",
   "execution_count": 12,
   "metadata": {},
   "outputs": [],
   "source": [
    "#!pip install spacy"
   ]
  },
  {
   "cell_type": "code",
   "execution_count": 13,
   "metadata": {},
   "outputs": [],
   "source": [
    "import spacy\n",
    "from spacy.lang.en.stop_words import STOP_WORDS"
   ]
  },
  {
   "cell_type": "code",
   "execution_count": 14,
   "metadata": {
    "scrolled": true
   },
   "outputs": [
    {
     "name": "stdout",
     "output_type": "stream",
     "text": [
      "{'wherein', 'except', 'enough', 'whereupon', 'even', 'whence', 'fifteen', 'doing', 'seems', 'everywhere', 'moreover', '‘re', 'too', 'between', 'without', 'latter', 'so', '‘m', 'along', 'thereby', 'more', 'name', 'will', 'been', 'here', 'anywhere', 'own', 'somehow', 'did', 'over', 'on', 'nine', 'which', 'why', 'afterwards', 'five', 'itself', 'eight', 'my', 'serious', 'whose', 'beside', 'after', 'anything', 'seem', 'whatever', 'being', 'everyone', 'our', 'ourselves', 'ours', 'to', 'hereupon', 'into', 'we', 'hereafter', 'wherever', 'therein', 'every', 'whereas', 'namely', 'would', 'third', \"'ll\", 'yours', 'are', 'used', 'various', 'at', 'becomes', 'could', 'himself', 'across', 'in', 'forty', 'within', 'a', 'me', 'twelve', 'herein', 'whereafter', 'becoming', 'n‘t', 'were', 'take', 'towards', 'became', 'beforehand', 'one', 'back', 'us', 'must', 'has', \"'m\", 'please', 'or', 'while', 'elsewhere', 'however', 'these', 'they', 'him', 'amount', 'for', 'cannot', 'no', 'ever', 'of', 'quite', '’ll', 'regarding', 'part', 'above', 'many', 'this', 'yet', '’ve', 'before', 'his', 'hence', 'alone', 'mine', 'make', 'neither', 'behind', 'onto', 'be', 'just', 'show', 'off', 'yourself', 'below', 'fifty', 'since', 'further', 'noone', 'where', 'nobody', 'themselves', 'well', 'together', 'yourselves', 'if', 'another', 'hundred', 'thereafter', 'n’t', 'put', 'get', 'it', 'latterly', 'four', 'either', 'was', 'whole', 'them', 'go', 'by', 'whoever', 'full', 'seeming', '’s', '’m', 'now', 'whenever', 'ca', 'myself', 'really', 'six', 'empty', 'almost', 'sometime', 'thereupon', 'already', 'whither', 'when', 'few', 'from', 'should', 'does', 'anyway', '‘ve', 'something', 'those', '’d', 'mostly', 'side', 'each', 'bottom', 'move', 'under', 'first', \"'ve\", 'indeed', 'toward', 'hers', 'using', 'done', 'is', 'say', 'because', 'both', 'the', 'formerly', 're', 'else', 'may', 'other', \"'re\", 'down', 'seemed', 'as', 'its', 'much', 'whether', 'do', 'last', 'beyond', 'then', 'any', 'your', 'you', 'none', 'anyhow', 'next', 'still', 'front', 'very', 'call', '’re', 'often', 'upon', 'made', 'become', 'least', 'sixty', 'otherwise', 'had', 'with', 'always', 'their', 'via', 'nothing', \"'d\", 'sometimes', 'against', 'unless', 'ten', 'up', 'besides', 'out', 'amongst', 'two', 'thru', 'three', 'there', 'have', 'rather', 'am', 'see', 'i', 'than', 'all', 'among', 'can', 'that', '‘s', 'nevertheless', 'others', 'her', 'keep', 'thence', 'somewhere', 'someone', 'meanwhile', 'thus', 'until', 'might', 'what', 'same', 'again', 'top', 'she', '‘ll', 'anyone', 'due', 'during', 'therefore', 'never', 'perhaps', 'who', 'whom', 'only', 'give', 'throughout', 'per', 'around', 'how', 'an', 'hereby', 'nowhere', 'twenty', 'but', \"'s\", 'eleven', 'he', 'about', 'everything', 'whereby', 'although', 'such', '‘d', 'nor', 'several', 'also', \"n't\", 'less', 'former', 'through', 'most', 'herself', 'once', 'though', 'and', 'not', 'some'}\n"
     ]
    }
   ],
   "source": [
    "print(STOP_WORDS)"
   ]
  },
  {
   "cell_type": "code",
   "execution_count": 15,
   "metadata": {},
   "outputs": [
    {
     "data": {
      "text/plain": [
       "['am', 'am', 'from']"
      ]
     },
     "execution_count": 15,
     "metadata": {},
     "output_type": "execute_result"
    },
    {
     "data": {
      "text/plain": [
       "3"
      ]
     },
     "execution_count": 15,
     "metadata": {},
     "output_type": "execute_result"
    }
   ],
   "source": [
    "#text1\n",
    "#text1.split()\n",
    "\n",
    "[t for t in text1.split() if t in STOP_WORDS]\n",
    "\n",
    "len([t for t in text1.split() if t in STOP_WORDS])"
   ]
  },
  {
   "cell_type": "code",
   "execution_count": 16,
   "metadata": {
    "scrolled": true
   },
   "outputs": [
    {
     "data": {
      "text/plain": [
       "['for',\n",
       " 'at',\n",
       " 'least',\n",
       " 'three',\n",
       " 'more',\n",
       " 'to',\n",
       " 'for',\n",
       " 'to',\n",
       " 'the',\n",
       " 'of',\n",
       " 'to',\n",
       " 'the',\n",
       " 'in',\n",
       " 'due',\n",
       " 'to',\n",
       " 'are']"
      ]
     },
     "execution_count": 16,
     "metadata": {},
     "output_type": "execute_result"
    },
    {
     "data": {
      "text/plain": [
       "16"
      ]
     },
     "execution_count": 16,
     "metadata": {},
     "output_type": "execute_result"
    }
   ],
   "source": [
    "#text2\n",
    "#text2.split()\n",
    "\n",
    "[t for t in text2.split() if t in STOP_WORDS]\n",
    "\n",
    "len([t for t in text2.split() if t in STOP_WORDS])"
   ]
  },
  {
   "cell_type": "code",
   "execution_count": null,
   "metadata": {},
   "outputs": [],
   "source": []
  },
  {
   "cell_type": "markdown",
   "metadata": {},
   "source": [
    "### Count #Hash Tags and @Mentions "
   ]
  },
  {
   "cell_type": "code",
   "execution_count": 17,
   "metadata": {},
   "outputs": [
    {
     "data": {
      "text/plain": [
       "['@Kranthi', '@#Project']"
      ]
     },
     "execution_count": 17,
     "metadata": {},
     "output_type": "execute_result"
    },
    {
     "data": {
      "text/plain": [
       "['#Working', '#NLP']"
      ]
     },
     "execution_count": 17,
     "metadata": {},
     "output_type": "execute_result"
    },
    {
     "data": {
      "text/plain": [
       "['@#Project']"
      ]
     },
     "execution_count": 17,
     "metadata": {},
     "output_type": "execute_result"
    }
   ],
   "source": [
    "text3 = '@Kranthi is #Working on #NLP @#Project'\n",
    "#text3.split()\n",
    "\n",
    "[t for t in text3.split() if t.startswith('@')]\n",
    "\n",
    "[t for t in text3.split() if t.startswith('#')]\n",
    "\n",
    "[t for t in text3.split() if t.startswith('@#')]"
   ]
  },
  {
   "cell_type": "code",
   "execution_count": null,
   "metadata": {},
   "outputs": [],
   "source": []
  },
  {
   "cell_type": "markdown",
   "metadata": {},
   "source": [
    "### if numeric digits are present in twitts"
   ]
  },
  {
   "cell_type": "code",
   "execution_count": 18,
   "metadata": {},
   "outputs": [
    {
     "data": {
      "text/plain": [
       "['9010313781']"
      ]
     },
     "execution_count": 18,
     "metadata": {},
     "output_type": "execute_result"
    },
    {
     "data": {
      "text/plain": [
       "1"
      ]
     },
     "execution_count": 18,
     "metadata": {},
     "output_type": "execute_result"
    }
   ],
   "source": [
    "text4 = 'I am Kranthi Giramoni, I am from Hyderabad, My Phone Number 9010313781'\n",
    "\n",
    "[t for t in text4.split() if t.isdigit()]\n",
    "\n",
    "len([t for t in text4.split() if t.isdigit()])"
   ]
  },
  {
   "cell_type": "code",
   "execution_count": null,
   "metadata": {},
   "outputs": [],
   "source": []
  },
  {
   "cell_type": "markdown",
   "metadata": {},
   "source": [
    "### UPPER case words count"
   ]
  },
  {
   "cell_type": "code",
   "execution_count": 19,
   "metadata": {},
   "outputs": [
    {
     "data": {
      "text/plain": [
       "['I', 'K', 'G', 'I', 'H', 'M', 'P', 'N']"
      ]
     },
     "execution_count": 19,
     "metadata": {},
     "output_type": "execute_result"
    },
    {
     "data": {
      "text/plain": [
       "8"
      ]
     },
     "execution_count": 19,
     "metadata": {},
     "output_type": "execute_result"
    }
   ],
   "source": [
    "[t for t in text4 if t.isupper()]\n",
    "\n",
    "len([t for t in text4 if t.isupper()])"
   ]
  },
  {
   "cell_type": "markdown",
   "metadata": {},
   "source": [
    "## Lower case words count"
   ]
  },
  {
   "cell_type": "code",
   "execution_count": 20,
   "metadata": {
    "scrolled": true
   },
   "outputs": [
    {
     "data": {
      "text/plain": [
       "39"
      ]
     },
     "execution_count": 20,
     "metadata": {},
     "output_type": "execute_result"
    }
   ],
   "source": [
    "#[t for t in text if t.islower()]\n",
    "\n",
    "len([t for t in text4 if t.islower()])"
   ]
  },
  {
   "cell_type": "markdown",
   "metadata": {},
   "source": [
    "## Preprocessing and Cleaning"
   ]
  },
  {
   "cell_type": "markdown",
   "metadata": {},
   "source": [
    "#### Lower case conversion"
   ]
  },
  {
   "cell_type": "code",
   "execution_count": 21,
   "metadata": {},
   "outputs": [
    {
     "data": {
      "text/plain": [
       "'I am Kranthi Giramoni, I am from Hyderabad, My Phone Number 9010313781'"
      ]
     },
     "execution_count": 21,
     "metadata": {},
     "output_type": "execute_result"
    }
   ],
   "source": [
    "#  Before Lower case Conversion\n",
    "text4"
   ]
  },
  {
   "cell_type": "code",
   "execution_count": 22,
   "metadata": {},
   "outputs": [
    {
     "data": {
      "text/plain": [
       "'i am kranthi giramoni, i am from hyderabad, my phone number 9010313781'"
      ]
     },
     "execution_count": 22,
     "metadata": {},
     "output_type": "execute_result"
    }
   ],
   "source": [
    "#  After Lower case Conversion\n",
    "text4.lower()"
   ]
  },
  {
   "cell_type": "code",
   "execution_count": null,
   "metadata": {},
   "outputs": [],
   "source": []
  },
  {
   "cell_type": "markdown",
   "metadata": {},
   "source": [
    "### Contraction to Expansion"
   ]
  },
  {
   "cell_type": "code",
   "execution_count": 23,
   "metadata": {},
   "outputs": [],
   "source": [
    "contractions = { \n",
    "\"ain't\": \"am not / are not / is not / has not / have not\",\n",
    "\"aren't\": \"are not / am not\",\n",
    "\"can't\": \"cannot\",\n",
    "\"can't've\": \"cannot have\",\n",
    "\"'cause\": \"because\",\n",
    "\"could've\": \"could have\",\n",
    "\"couldn't\": \"could not\",\n",
    "\"couldn't've\": \"could not have\",\n",
    "\"didn't\": \"did not\",\n",
    "\"doesn't\": \"does not\",\n",
    "\"don't\": \"do not\",\n",
    "\"hadn't\": \"had not\",\n",
    "\"hadn't've\": \"had not have\",\n",
    "\"hasn't\": \"has not\",\n",
    "\"haven't\": \"have not\",\n",
    "\"he'd\": \"he had / he would\",\n",
    "\"he'd've\": \"he would have\",\n",
    "\"he'll\": \"he shall / he will\",\n",
    "\"he'll've\": \"he shall have / he will have\",\n",
    "\"he's\": \"he has / he is\",\n",
    "\"how'd\": \"how did\",\n",
    "\"how'd'y\": \"how do you\",\n",
    "\"how'll\": \"how will\",\n",
    "\"how's\": \"how has / how is / how does\",\n",
    "\"i'd\": \"I had / I would\",\n",
    "\"i'd've\": \"I would have\",\n",
    "\"i'll\": \"I shall / I will\",\n",
    "\"i'll've\": \"I shall have / I will have\",\n",
    "\"i'm\": \"I am\",\n",
    "\"i've\": \"I have\",\n",
    "\"isn't\": \"is not\",\n",
    "\"it'd\": \"it had / it would\",\n",
    "\"it'd've\": \"it would have\",\n",
    "\"it'll\": \"it shall / it will\",\n",
    "\"it'll've\": \"it shall have / it will have\",\n",
    "\"it's\": \"it has / it is\",\n",
    "\"let's\": \"let us\",\n",
    "\"ma'am\": \"madam\",\n",
    "\"mayn't\": \"may not\",\n",
    "\"might've\": \"might have\",\n",
    "\"mightn't\": \"might not\",\n",
    "\"mightn't've\": \"might not have\",\n",
    "\"must've\": \"must have\",\n",
    "\"mustn't\": \"must not\",\n",
    "\"mustn't've\": \"must not have\",\n",
    "\"needn't\": \"need not\",\n",
    "\"needn't've\": \"need not have\",\n",
    "\"o'clock\": \"of the clock\",\n",
    "\"oughtn't\": \"ought not\",\n",
    "\"oughtn't've\": \"ought not have\",\n",
    "\"shan't\": \"shall not\",\n",
    "\"sha'n't\": \"shall not\",\n",
    "\"shan't've\": \"shall not have\",\n",
    "\"she'd\": \"she had / she would\",\n",
    "\"she'd've\": \"she would have\",\n",
    "\"she'll\": \"she shall / she will\",\n",
    "\"she'll've\": \"she shall have / she will have\",\n",
    "\"she's\": \"she has / she is\",\n",
    "\"should've\": \"should have\",\n",
    "\"shouldn't\": \"should not\",\n",
    "\"shouldn't've\": \"should not have\",\n",
    "\"so've\": \"so have\",\n",
    "\"so's\": \"so as / so is\",\n",
    "\"that'd\": \"that would / that had\",\n",
    "\"that'd've\": \"that would have\",\n",
    "\"that's\": \"that has / that is\",\n",
    "\"there'd\": \"there had / there would\",\n",
    "\"there'd've\": \"there would have\",\n",
    "\"there's\": \"there has / there is\",\n",
    "\"they'd\": \"they had / they would\",\n",
    "\"they'd've\": \"they would have\",\n",
    "\"they'll\": \"they shall / they will\",\n",
    "\"they'll've\": \"they shall have / they will have\",\n",
    "\"they're\": \"they are\",\n",
    "\"they've\": \"they have\",\n",
    "\"to've\": \"to have\",\n",
    "\"wasn't\": \"was not\",\n",
    "\"we'd\": \"we had / we would\",\n",
    "\"we'd've\": \"we would have\",\n",
    "\"we'll\": \"we will\",\n",
    "\"we'll've\": \"we will have\",\n",
    "\"we're\": \"we are\",\n",
    "\"we've\": \"we have\",\n",
    "\"weren't\": \"were not\",\n",
    "\"what'll\": \"what shall / what will\",\n",
    "\"what'll've\": \"what shall have / what will have\",\n",
    "\"what're\": \"what are\",\n",
    "\"what's\": \"what has / what is\",\n",
    "\"what've\": \"what have\",\n",
    "\"when's\": \"when has / when is\",\n",
    "\"when've\": \"when have\",\n",
    "\"where'd\": \"where did\",\n",
    "\"where's\": \"where has / where is\",\n",
    "\"where've\": \"where have\",\n",
    "\"who'll\": \"who shall / who will\",\n",
    "\"who'll've\": \"who shall have / who will have\",\n",
    "\"who's\": \"who has / who is\",\n",
    "\"who've\": \"who have\",\n",
    "\"why's\": \"why has / why is\",\n",
    "\"why've\": \"why have\",\n",
    "\"will've\": \"will have\",\n",
    "\"won't\": \"will not\",\n",
    "\"won't've\": \"will not have\",\n",
    "\"would've\": \"would have\",\n",
    "\"wouldn't\": \"would not\",\n",
    "\"wouldn't've\": \"would not have\",\n",
    "\"y'all\": \"you all\",\n",
    "\"y'all'd\": \"you all would\",\n",
    "\"y'all'd've\": \"you all would have\",\n",
    "\"y'all're\": \"you all are\",\n",
    "\"y'all've\": \"you all have\",\n",
    "\"you'd\": \"you had\",\n",
    "\"you'd've\": \"you would have\",\n",
    "\"you'll\": \"you shall\",\n",
    "\"you'll've\": \"you will have\",\n",
    "\"you're\": \"you are\",\n",
    "\"you've\": \"you have\",\n",
    "\"u\": \"you\",\n",
    "\"ur\": \"your\",\n",
    "\"nd\": \"and\" }"
   ]
  },
  {
   "cell_type": "code",
   "execution_count": 24,
   "metadata": {},
   "outputs": [],
   "source": [
    "def cont_to_exp(x):\n",
    "    if type(x) is str:\n",
    "        for key in contractions:\n",
    "            value = contractions[key]\n",
    "            x = x.replace(key, value)\n",
    "        return x\n",
    "    else:\n",
    "        return x"
   ]
  },
  {
   "cell_type": "code",
   "execution_count": 25,
   "metadata": {},
   "outputs": [],
   "source": [
    "text5 = \"i don't know what you want, can't, he'll, i'd, i'll've\""
   ]
  },
  {
   "cell_type": "code",
   "execution_count": 26,
   "metadata": {},
   "outputs": [
    {
     "data": {
      "text/plain": [
       "'i do not know what yoyou want, cannot, he shall / he will, I had / I woyould, I shall / I will have'"
      ]
     },
     "execution_count": 26,
     "metadata": {},
     "output_type": "execute_result"
    }
   ],
   "source": [
    "cont_to_exp(text5)"
   ]
  },
  {
   "cell_type": "code",
   "execution_count": null,
   "metadata": {},
   "outputs": [],
   "source": []
  },
  {
   "cell_type": "markdown",
   "metadata": {},
   "source": [
    "### Count and Remove Emails"
   ]
  },
  {
   "cell_type": "code",
   "execution_count": 27,
   "metadata": {},
   "outputs": [],
   "source": [
    "import re"
   ]
  },
  {
   "cell_type": "code",
   "execution_count": 28,
   "metadata": {},
   "outputs": [],
   "source": [
    "text6 = 'I am Kranthi Giramoni, I am from Hyderabad, My Mail ID is kranthigiramoni@gmail.com, giramoni@gmail.com'"
   ]
  },
  {
   "cell_type": "code",
   "execution_count": 29,
   "metadata": {},
   "outputs": [
    {
     "data": {
      "text/plain": [
       "['kranthigiramoni@gmail.com', 'giramoni@gmail.com']"
      ]
     },
     "execution_count": 29,
     "metadata": {},
     "output_type": "execute_result"
    }
   ],
   "source": [
    "re.findall(r'([a-zA-Z0-9+._-]+@[a-zA-Z0-9._-]+\\.[a-zA-Z0-9_-]+)', text6)"
   ]
  },
  {
   "cell_type": "code",
   "execution_count": 30,
   "metadata": {},
   "outputs": [
    {
     "data": {
      "text/plain": [
       "'I am Kranthi Giramoni, I am from Hyderabad, My Mail ID is , '"
      ]
     },
     "execution_count": 30,
     "metadata": {},
     "output_type": "execute_result"
    }
   ],
   "source": [
    "re.sub(r'([a-zA-Z0-9+._-]+@[a-zA-Z0-9._-]+\\.[a-zA-Z0-9_-]+)', '', text6)"
   ]
  },
  {
   "cell_type": "markdown",
   "metadata": {},
   "source": [
    "### Count URLs and Remove it"
   ]
  },
  {
   "cell_type": "code",
   "execution_count": 31,
   "metadata": {},
   "outputs": [],
   "source": [
    "text7 = 'I am Kranthi Giramoni, I am from Hyderabad, visit https://github.com/giramonikranthi'"
   ]
  },
  {
   "cell_type": "code",
   "execution_count": 32,
   "metadata": {},
   "outputs": [
    {
     "data": {
      "text/plain": [
       "[('https', 'github.com', '/giramonikranthi')]"
      ]
     },
     "execution_count": 32,
     "metadata": {},
     "output_type": "execute_result"
    }
   ],
   "source": [
    "re.findall(r'(http|ftp|https)://([\\w_-]+(?:(?:\\.[\\w_-]+)+))([\\w.,@?^=%&:/~+#-]*[\\w@?^=%&/~+#-])?', text7)"
   ]
  },
  {
   "cell_type": "code",
   "execution_count": 33,
   "metadata": {},
   "outputs": [
    {
     "data": {
      "text/plain": [
       "'I am Kranthi Giramoni, I am from Hyderabad, visit '"
      ]
     },
     "execution_count": 33,
     "metadata": {},
     "output_type": "execute_result"
    }
   ],
   "source": [
    "re.sub(r'(http|ftp|https)://([\\w_-]+(?:(?:\\.[\\w_-]+)+))([\\w.,@?^=%&:/~+#-]*[\\w@?^=%&/~+#-])?', '', text7)"
   ]
  },
  {
   "cell_type": "code",
   "execution_count": null,
   "metadata": {},
   "outputs": [],
   "source": []
  },
  {
   "cell_type": "markdown",
   "metadata": {},
   "source": [
    "### Remove RT"
   ]
  },
  {
   "cell_type": "code",
   "execution_count": 34,
   "metadata": {},
   "outputs": [],
   "source": [
    "text8 = 'RT Kranthi'"
   ]
  },
  {
   "cell_type": "code",
   "execution_count": 35,
   "metadata": {},
   "outputs": [
    {
     "data": {
      "text/plain": [
       "' Kranthi'"
      ]
     },
     "execution_count": 35,
     "metadata": {},
     "output_type": "execute_result"
    }
   ],
   "source": [
    "re.sub('RT', \"\", text8)"
   ]
  },
  {
   "cell_type": "code",
   "execution_count": null,
   "metadata": {},
   "outputs": [],
   "source": []
  },
  {
   "cell_type": "markdown",
   "metadata": {},
   "source": [
    "### Special Chars removal or punctuation removal"
   ]
  },
  {
   "cell_type": "code",
   "execution_count": 36,
   "metadata": {},
   "outputs": [],
   "source": [
    "text9 = 'I am @ % Kranthi $ Giramoni,& I am from $ # Hyderabad'"
   ]
  },
  {
   "cell_type": "code",
   "execution_count": 37,
   "metadata": {},
   "outputs": [
    {
     "data": {
      "text/plain": [
       "'I am   Kranthi  Giramoni I am from   Hyderabad'"
      ]
     },
     "execution_count": 37,
     "metadata": {},
     "output_type": "execute_result"
    }
   ],
   "source": [
    "re.sub('[^A-Z a-z 0-9-]+', \"\", text9)"
   ]
  },
  {
   "cell_type": "code",
   "execution_count": null,
   "metadata": {},
   "outputs": [],
   "source": []
  },
  {
   "cell_type": "markdown",
   "metadata": {},
   "source": [
    "### Remove multiple spaces"
   ]
  },
  {
   "cell_type": "code",
   "execution_count": 38,
   "metadata": {},
   "outputs": [],
   "source": [
    "text9 = 'End           to   End        NLP Sentiment     Analysis   Tutorial'"
   ]
  },
  {
   "cell_type": "code",
   "execution_count": 39,
   "metadata": {},
   "outputs": [
    {
     "data": {
      "text/plain": [
       "'End to End NLP Sentiment Analysis Tutorial'"
      ]
     },
     "execution_count": 39,
     "metadata": {},
     "output_type": "execute_result"
    }
   ],
   "source": [
    "\" \".join(text9.split())"
   ]
  },
  {
   "cell_type": "code",
   "execution_count": null,
   "metadata": {},
   "outputs": [],
   "source": []
  },
  {
   "cell_type": "markdown",
   "metadata": {},
   "source": [
    "### Remove HTML tags"
   ]
  },
  {
   "cell_type": "code",
   "execution_count": 40,
   "metadata": {},
   "outputs": [],
   "source": [
    "from bs4 import BeautifulSoup"
   ]
  },
  {
   "cell_type": "code",
   "execution_count": 41,
   "metadata": {},
   "outputs": [],
   "source": [
    "text10 = '<html><h2> I am Kranthi Giramoni, visit https://github.com/giramonikranthi </h2></html>'"
   ]
  },
  {
   "cell_type": "code",
   "execution_count": 42,
   "metadata": {},
   "outputs": [
    {
     "data": {
      "text/plain": [
       "' I am Kranthi Giramoni, visit https://github.com/giramonikranthi '"
      ]
     },
     "execution_count": 42,
     "metadata": {},
     "output_type": "execute_result"
    }
   ],
   "source": [
    "BeautifulSoup(text10, \"lxml\").get_text()"
   ]
  },
  {
   "cell_type": "code",
   "execution_count": null,
   "metadata": {},
   "outputs": [],
   "source": []
  },
  {
   "cell_type": "markdown",
   "metadata": {},
   "source": [
    "### Remove Accented Chars "
   ]
  },
  {
   "cell_type": "code",
   "execution_count": 43,
   "metadata": {},
   "outputs": [],
   "source": [
    "import unicodedata"
   ]
  },
  {
   "cell_type": "code",
   "execution_count": 44,
   "metadata": {},
   "outputs": [],
   "source": [
    "text11 = 'àccêntêd têxt'"
   ]
  },
  {
   "cell_type": "code",
   "execution_count": 45,
   "metadata": {},
   "outputs": [],
   "source": [
    "def remove_accented_chars(x):\n",
    "    x = unicodedata.normalize('NFKD', x).encode('ascii', 'ignore').decode('utf_8', 'ignore')\n",
    "    return x"
   ]
  },
  {
   "cell_type": "code",
   "execution_count": 46,
   "metadata": {},
   "outputs": [
    {
     "data": {
      "text/plain": [
       "'accented text'"
      ]
     },
     "execution_count": 46,
     "metadata": {},
     "output_type": "execute_result"
    }
   ],
   "source": [
    "remove_accented_chars(text11)"
   ]
  },
  {
   "cell_type": "code",
   "execution_count": null,
   "metadata": {},
   "outputs": [],
   "source": []
  },
  {
   "cell_type": "markdown",
   "metadata": {},
   "source": [
    "### Remove Stop Words "
   ]
  },
  {
   "cell_type": "code",
   "execution_count": 47,
   "metadata": {},
   "outputs": [],
   "source": [
    "import spacy "
   ]
  },
  {
   "cell_type": "code",
   "execution_count": 48,
   "metadata": {},
   "outputs": [],
   "source": [
    "text12 = 'I am Kranthi Giramoni, this is stop words removal code is a the an how what'"
   ]
  },
  {
   "cell_type": "code",
   "execution_count": 49,
   "metadata": {},
   "outputs": [
    {
     "data": {
      "text/plain": [
       "'I Kranthi Giramoni, stop words removal code'"
      ]
     },
     "execution_count": 49,
     "metadata": {},
     "output_type": "execute_result"
    }
   ],
   "source": [
    "\" \".join([t for t in text12.split() if t not in STOP_WORDS])"
   ]
  },
  {
   "cell_type": "code",
   "execution_count": null,
   "metadata": {},
   "outputs": [],
   "source": []
  },
  {
   "cell_type": "markdown",
   "metadata": {},
   "source": [
    "### Convert into base or root from of word"
   ]
  },
  {
   "cell_type": "code",
   "execution_count": 50,
   "metadata": {},
   "outputs": [],
   "source": [
    "import spacy"
   ]
  },
  {
   "cell_type": "code",
   "execution_count": 51,
   "metadata": {},
   "outputs": [],
   "source": [
    "# !pip install en_core_web_sm\n",
    "# !python -m spacy download en_core_web_sm"
   ]
  },
  {
   "cell_type": "code",
   "execution_count": 52,
   "metadata": {},
   "outputs": [],
   "source": [
    "nlp = spacy.load('en_core_web_sm')"
   ]
  },
  {
   "cell_type": "code",
   "execution_count": 53,
   "metadata": {},
   "outputs": [],
   "source": [
    "text13 = 'kenichan dived many times for the ball managed to save 50 rest'"
   ]
  },
  {
   "cell_type": "code",
   "execution_count": 54,
   "metadata": {},
   "outputs": [],
   "source": [
    "#dive = dived, time = times, manage = managed"
   ]
  },
  {
   "cell_type": "code",
   "execution_count": 55,
   "metadata": {},
   "outputs": [],
   "source": [
    "def make_to_base(x):\n",
    "    x_list = []\n",
    "    doc = nlp(x)\n",
    "    \n",
    "    for token in doc:\n",
    "        lemma = str(token.lemma_)\n",
    "        if lemma == '-PORN' or lemma == 'be':\n",
    "            lemma = token.text\n",
    "        x_list.append(lemma)\n",
    "    print(\" \".join(x_list))\n",
    "        "
   ]
  },
  {
   "cell_type": "code",
   "execution_count": 56,
   "metadata": {},
   "outputs": [],
   "source": [
    "# x = 'i you he she they '"
   ]
  },
  {
   "cell_type": "code",
   "execution_count": 57,
   "metadata": {},
   "outputs": [
    {
     "name": "stdout",
     "output_type": "stream",
     "text": [
      "kenichan dive many time for the ball manage to save 50 rest\n"
     ]
    }
   ],
   "source": [
    "make_to_base(text13)"
   ]
  },
  {
   "cell_type": "code",
   "execution_count": null,
   "metadata": {},
   "outputs": [],
   "source": []
  },
  {
   "cell_type": "markdown",
   "metadata": {},
   "source": [
    "### Commonwords removal"
   ]
  },
  {
   "cell_type": "code",
   "execution_count": 58,
   "metadata": {
    "scrolled": true
   },
   "outputs": [
    {
     "data": {
      "text/plain": [
       "\"Covid19 Breaking News: Donald Trump, US government extends national lockdown for at least three more weeks to curb Coronavirus outbreak. US President Donald Trump thanked India for Prime Minister Narendra Modi's decision to allow the export of anti malaria hydroxychloroquine to the US,India Prime Minister  Modi,  Modi anounced in  India Lockdown upto May 3rd due to Corona (Covid19), India corona(Covid19) Cases are 8,458,\""
      ]
     },
     "execution_count": 58,
     "metadata": {},
     "output_type": "execute_result"
    },
    {
     "data": {
      "text/plain": [
       "['Covid19',\n",
       " 'Breaking',\n",
       " 'News:',\n",
       " 'Donald',\n",
       " 'Trump,',\n",
       " 'US',\n",
       " 'government',\n",
       " 'extends',\n",
       " 'national',\n",
       " 'lockdown',\n",
       " 'for',\n",
       " 'at',\n",
       " 'least',\n",
       " 'three',\n",
       " 'more',\n",
       " 'weeks',\n",
       " 'to',\n",
       " 'curb',\n",
       " 'Coronavirus',\n",
       " 'outbreak.',\n",
       " 'US',\n",
       " 'President',\n",
       " 'Donald',\n",
       " 'Trump',\n",
       " 'thanked',\n",
       " 'India',\n",
       " 'for',\n",
       " 'Prime',\n",
       " 'Minister',\n",
       " 'Narendra',\n",
       " \"Modi's\",\n",
       " 'decision',\n",
       " 'to',\n",
       " 'allow',\n",
       " 'the',\n",
       " 'export',\n",
       " 'of',\n",
       " 'anti',\n",
       " 'malaria',\n",
       " 'hydroxychloroquine',\n",
       " 'to',\n",
       " 'the',\n",
       " 'US,India',\n",
       " 'Prime',\n",
       " 'Minister',\n",
       " 'Modi,',\n",
       " 'Modi',\n",
       " 'anounced',\n",
       " 'in',\n",
       " 'India',\n",
       " 'Lockdown',\n",
       " 'upto',\n",
       " 'May',\n",
       " '3rd',\n",
       " 'due',\n",
       " 'to',\n",
       " 'Corona',\n",
       " '(Covid19),',\n",
       " 'India',\n",
       " 'corona(Covid19)',\n",
       " 'Cases',\n",
       " 'are',\n",
       " '8,458,']"
      ]
     },
     "execution_count": 58,
     "metadata": {},
     "output_type": "execute_result"
    }
   ],
   "source": [
    "text2\n",
    "\n",
    "text14 = text2.split()\n",
    "text14"
   ]
  },
  {
   "cell_type": "code",
   "execution_count": null,
   "metadata": {},
   "outputs": [],
   "source": []
  },
  {
   "cell_type": "code",
   "execution_count": 59,
   "metadata": {
    "scrolled": true
   },
   "outputs": [
    {
     "data": {
      "text/plain": [
       "to                    4\n",
       "India                 3\n",
       "Prime                 2\n",
       "US                    2\n",
       "the                   2\n",
       "Donald                2\n",
       "Minister              2\n",
       "for                   2\n",
       "8,458,                1\n",
       "hydroxychloroquine    1\n",
       "extends               1\n",
       "3rd                   1\n",
       "government            1\n",
       "anti                  1\n",
       "Lockdown              1\n",
       "allow                 1\n",
       "least                 1\n",
       "Breaking              1\n",
       "Covid19               1\n",
       "President             1\n",
       "Trump                 1\n",
       "corona(Covid19)       1\n",
       "Narendra              1\n",
       "three                 1\n",
       "Coronavirus           1\n",
       "export                1\n",
       "(Covid19),            1\n",
       "Modi,                 1\n",
       "Modi                  1\n",
       "decision              1\n",
       "outbreak.             1\n",
       "in                    1\n",
       "US,India              1\n",
       "lockdown              1\n",
       "thanked               1\n",
       "Corona                1\n",
       "at                    1\n",
       "more                  1\n",
       "of                    1\n",
       "anounced              1\n",
       "weeks                 1\n",
       "curb                  1\n",
       "Cases                 1\n",
       "are                   1\n",
       "Modi's                1\n",
       "national              1\n",
       "May                   1\n",
       "upto                  1\n",
       "News:                 1\n",
       "Trump,                1\n",
       "due                   1\n",
       "malaria               1\n",
       "dtype: int64"
      ]
     },
     "execution_count": 59,
     "metadata": {},
     "output_type": "execute_result"
    }
   ],
   "source": [
    "freq_comm = pd.Series(text14).value_counts()\n",
    "freq_comm"
   ]
  },
  {
   "cell_type": "code",
   "execution_count": 60,
   "metadata": {},
   "outputs": [
    {
     "data": {
      "text/plain": [
       "to                    4\n",
       "India                 3\n",
       "Prime                 2\n",
       "US                    2\n",
       "the                   2\n",
       "Donald                2\n",
       "Minister              2\n",
       "for                   2\n",
       "8,458,                1\n",
       "hydroxychloroquine    1\n",
       "dtype: int64"
      ]
     },
     "execution_count": 60,
     "metadata": {},
     "output_type": "execute_result"
    }
   ],
   "source": [
    "f10 = freq_comm[:10]\n",
    "f10"
   ]
  },
  {
   "cell_type": "markdown",
   "metadata": {},
   "source": [
    "### Rare words removal"
   ]
  },
  {
   "cell_type": "code",
   "execution_count": 61,
   "metadata": {
    "scrolled": true
   },
   "outputs": [
    {
     "data": {
      "text/plain": [
       "Cases       1\n",
       "are         1\n",
       "Modi's      1\n",
       "national    1\n",
       "May         1\n",
       "upto        1\n",
       "News:       1\n",
       "Trump,      1\n",
       "due         1\n",
       "malaria     1\n",
       "dtype: int64"
      ]
     },
     "execution_count": 61,
     "metadata": {},
     "output_type": "execute_result"
    }
   ],
   "source": [
    "rare10 = freq_comm[-10:]\n",
    "rare10"
   ]
  },
  {
   "cell_type": "code",
   "execution_count": 62,
   "metadata": {
    "scrolled": true
   },
   "outputs": [
    {
     "data": {
      "text/plain": [
       "8,458,                1\n",
       "hydroxychloroquine    1\n",
       "extends               1\n",
       "3rd                   1\n",
       "government            1\n",
       "anti                  1\n",
       "Lockdown              1\n",
       "allow                 1\n",
       "least                 1\n",
       "Breaking              1\n",
       "Covid19               1\n",
       "President             1\n",
       "Trump                 1\n",
       "corona(Covid19)       1\n",
       "Narendra              1\n",
       "three                 1\n",
       "Coronavirus           1\n",
       "export                1\n",
       "(Covid19),            1\n",
       "Modi,                 1\n",
       "Modi                  1\n",
       "decision              1\n",
       "outbreak.             1\n",
       "in                    1\n",
       "US,India              1\n",
       "lockdown              1\n",
       "thanked               1\n",
       "Corona                1\n",
       "at                    1\n",
       "more                  1\n",
       "of                    1\n",
       "anounced              1\n",
       "weeks                 1\n",
       "curb                  1\n",
       "Cases                 1\n",
       "are                   1\n",
       "Modi's                1\n",
       "national              1\n",
       "May                   1\n",
       "upto                  1\n",
       "News:                 1\n",
       "Trump,                1\n",
       "due                   1\n",
       "malaria               1\n",
       "dtype: int64"
      ]
     },
     "execution_count": 62,
     "metadata": {},
     "output_type": "execute_result"
    }
   ],
   "source": [
    "rare = freq_comm[freq_comm.values == 1]\n",
    "rare"
   ]
  },
  {
   "cell_type": "code",
   "execution_count": null,
   "metadata": {},
   "outputs": [],
   "source": []
  },
  {
   "cell_type": "markdown",
   "metadata": {},
   "source": [
    "### Word Cloud Visualization"
   ]
  },
  {
   "cell_type": "code",
   "execution_count": 63,
   "metadata": {},
   "outputs": [],
   "source": [
    "#!pip install wordcloud"
   ]
  },
  {
   "cell_type": "code",
   "execution_count": 64,
   "metadata": {},
   "outputs": [],
   "source": [
    "from wordcloud import WordCloud\n",
    "import matplotlib.pyplot as plt\n",
    "%matplotlib inline"
   ]
  },
  {
   "cell_type": "code",
   "execution_count": 65,
   "metadata": {},
   "outputs": [
    {
     "data": {
      "text/plain": [
       "\"Covid19 Breaking News: Donald Trump, US government extends national lockdown for at least three more weeks to curb Coronavirus outbreak. US President Donald Trump thanked India for Prime Minister Narendra Modi's decision to allow the export of anti malaria hydroxychloroquine to the US,India Prime Minister  Modi,  Modi anounced in  India Lockdown upto May 3rd due to Corona (Covid19), India corona(Covid19) Cases are 8,458,\""
      ]
     },
     "execution_count": 65,
     "metadata": {},
     "output_type": "execute_result"
    }
   ],
   "source": [
    "text2"
   ]
  },
  {
   "cell_type": "code",
   "execution_count": 66,
   "metadata": {},
   "outputs": [
    {
     "data": {
      "text/plain": [
       "424"
      ]
     },
     "execution_count": 66,
     "metadata": {},
     "output_type": "execute_result"
    }
   ],
   "source": [
    "len(text2)"
   ]
  },
  {
   "cell_type": "code",
   "execution_count": 70,
   "metadata": {},
   "outputs": [
    {
     "data": {
      "text/plain": [
       "<matplotlib.image.AxesImage at 0x192c4fc96d8>"
      ]
     },
     "execution_count": 70,
     "metadata": {},
     "output_type": "execute_result"
    },
    {
     "data": {
      "text/plain": [
       "(-0.5, 799.5, 399.5, -0.5)"
      ]
     },
     "execution_count": 70,
     "metadata": {},
     "output_type": "execute_result"
    },
    {
     "data": {
      "text/plain": [
       "<function matplotlib.pyplot.show(*args, **kw)>"
      ]
     },
     "execution_count": 70,
     "metadata": {},
     "output_type": "execute_result"
    },
    {
     "data": {
      "image/png": "[encoded data removed]",
      "text/plain": [
       "<Figure size 432x288 with 1 Axes>"
      ]
     },
     "metadata": {
      "needs_background": "light"
     },
     "output_type": "display_data"
    }
   ],
   "source": [
    "wc = WordCloud(width=800, height=400).generate(text2)\n",
    "plt.imshow(wc)\n",
    "plt.axis('off')\n",
    "plt.show"
   ]
  },
  {
   "cell_type": "code",
   "execution_count": null,
   "metadata": {},
   "outputs": [],
   "source": []
  },
  {
   "cell_type": "code",
   "execution_count": null,
   "metadata": {},
   "outputs": [],
   "source": []
  }
 ],
 "metadata": {
  "kernelspec": {
   "display_name": "Python 3",
   "language": "python",
   "name": "python3"
  },
  "language_info": {
   "codemirror_mode": {
    "name": "ipython",
    "version": 3
   },
   "file_extension": ".py",
   "mimetype": "text/x-python",
   "name": "python",
   "nbconvert_exporter": "python",
   "pygments_lexer": "ipython3",
   "version": "3.7.3"
  }
 },
 "nbformat": 4,
 "nbformat_minor": 2
}
